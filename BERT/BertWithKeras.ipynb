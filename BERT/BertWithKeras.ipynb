{
  "nbformat": 4,
  "nbformat_minor": 0,
  "metadata": {
    "colab": {
      "name": "BertWithKeras.ipynb",
      "provenance": [],
      "authorship_tag": "ABX9TyMzSrTi0PUN8jOq+8fKkd7e",
      "include_colab_link": true
    },
    "kernelspec": {
      "name": "python3",
      "display_name": "Python 3"
    },
    "language_info": {
      "name": "python"
    }
  },
  "cells": [
    {
      "cell_type": "markdown",
      "metadata": {
        "id": "view-in-github",
        "colab_type": "text"
      },
      "source": [
        "<a href=\"https://colab.research.google.com/github/ASIF-Mahmud1/MachineLearningProjects/blob/bert/BERT/BertWithKeras.ipynb\" target=\"_parent\"><img src=\"https://colab.research.google.com/assets/colab-badge.svg\" alt=\"Open In Colab\"/></a>"
      ]
    },
    {
      "cell_type": "code",
      "metadata": {
        "id": "RLaTF0nFL19P"
      },
      "source": [
        "## Select tensorflow version 2\n",
        "try:\n",
        "    # %tensorflow_version only exists in Colab.\n",
        "    %tensorflow_version 2.x\n",
        "except Exception:\n",
        "    pass"
      ],
      "execution_count": null,
      "outputs": []
    },
    {
      "cell_type": "code",
      "metadata": {
        "id": "SL5bcvXgL6_u"
      },
      "source": [
        "## install tensorflow-text\n",
        "%%capture\n",
        "%%bash\n",
        "\n",
        "pip install -U tensorflow-text"
      ],
      "execution_count": null,
      "outputs": []
    },
    {
      "cell_type": "code",
      "metadata": {
        "id": "BcEs1-57JqLH"
      },
      "source": [
        "# import relevant libraries\n",
        "import tensorflow_hub as hub\n",
        "import tensorflow_text as text"
      ],
      "execution_count": null,
      "outputs": []
    },
    {
      "cell_type": "code",
      "metadata": {
        "id": "MqVb7Rw-KG3V"
      },
      "source": [
        "# get encoder-url and corresponding preprocess url from: https://tfhub.dev/google/collections/bert/1\n",
        "\n",
        "preprocess_url = \"https://tfhub.dev/tensorflow/bert_en_uncased_preprocess/3\"\n",
        "encoder_url = \"https://tfhub.dev/tensorflow/bert_en_uncased_L-12_H-768_A-12/4\""
      ],
      "execution_count": null,
      "outputs": []
    },
    {
      "cell_type": "code",
      "metadata": {
        "id": "AXZFQuvmLJwG"
      },
      "source": [
        "# get bert preprocess hub layer\n",
        "bert_preprocess_model = hub.KerasLayer(preprocess_url)"
      ],
      "execution_count": null,
      "outputs": []
    },
    {
      "cell_type": "code",
      "metadata": {
        "id": "Q_NYd8r0Kl84"
      },
      "source": [
        "sentence= [\n",
        "  \"I am not going to give up\",\n",
        "\"I am giving up\",\n",
        "\"I don't know, if I will pass the exam\",\n",
        "\"I will definitely pass the exam\",\n",
        "\"Maybe I will pass the exam\" ]"
      ],
      "execution_count": null,
      "outputs": []
    },
    {
      "cell_type": "code",
      "metadata": {
        "colab": {
          "base_uri": "https://localhost:8080/"
        },
        "id": "0mkWSPoSPRej",
        "outputId": "ee860615-16de-4a80-f1aa-1a5a2e4cd647"
      },
      "source": [
        "text_preprocessed = bert_preprocess_model(sentence)\n",
        "text_preprocessed.keys()"
      ],
      "execution_count": null,
      "outputs": [
        {
          "output_type": "execute_result",
          "data": {
            "text/plain": [
              "dict_keys(['input_type_ids', 'input_mask', 'input_word_ids'])"
            ]
          },
          "metadata": {
            "tags": []
          },
          "execution_count": 19
        }
      ]
    },
    {
      "cell_type": "code",
      "metadata": {
        "id": "qEsSOxPRPnRw"
      },
      "source": [
        "text_preprocessed['input_mask']     # Observation\n"
      ],
      "execution_count": null,
      "outputs": []
    },
    {
      "cell_type": "code",
      "metadata": {
        "id": "1U4Oj01WPprg"
      },
      "source": [
        "text_preprocessed['input_type_ids']         # Observation\n"
      ],
      "execution_count": null,
      "outputs": []
    },
    {
      "cell_type": "code",
      "metadata": {
        "id": "NyGnjB0BPvqi"
      },
      "source": [
        "text_preprocessed['input_word_ids']               # Observation\n"
      ],
      "execution_count": null,
      "outputs": []
    },
    {
      "cell_type": "code",
      "metadata": {
        "id": "zMidLYmsP1Hm"
      },
      "source": [
        "# get Bert encoder layer \n",
        "bert_model = hub.KerasLayer(encoder_url)\n"
      ],
      "execution_count": null,
      "outputs": []
    },
    {
      "cell_type": "code",
      "metadata": {
        "id": "tW5L00-3P_um",
        "colab": {
          "base_uri": "https://localhost:8080/"
        },
        "outputId": "d108ae1a-c58b-4172-cb01-b350333dae87"
      },
      "source": [
        "bert_results = bert_model(text_preprocessed)\n",
        "\n",
        "bert_results.keys()\n"
      ],
      "execution_count": 25,
      "outputs": [
        {
          "output_type": "execute_result",
          "data": {
            "text/plain": [
              "dict_keys(['encoder_outputs', 'pooled_output', 'sequence_output', 'default'])"
            ]
          },
          "metadata": {
            "tags": []
          },
          "execution_count": 25
        }
      ]
    },
    {
      "cell_type": "code",
      "metadata": {
        "id": "EmRfLWuYXVcD"
      },
      "source": [
        "bert_results['sequence_output']   # Observation\n"
      ],
      "execution_count": null,
      "outputs": []
    },
    {
      "cell_type": "code",
      "metadata": {
        "id": "aOU1ltPYXdSR"
      },
      "source": [
        "bert_results['pooled_output']     # Observation\n"
      ],
      "execution_count": null,
      "outputs": []
    },
    {
      "cell_type": "code",
      "metadata": {
        "colab": {
          "base_uri": "https://localhost:8080/"
        },
        "id": "aFyA6BweXhCQ",
        "outputId": "15c34faf-7ff5-4f37-cb8e-4333e7d43754"
      },
      "source": [
        "len(bert_results['encoder_outputs'])\n"
      ],
      "execution_count": 28,
      "outputs": [
        {
          "output_type": "execute_result",
          "data": {
            "text/plain": [
              "12"
            ]
          },
          "metadata": {
            "tags": []
          },
          "execution_count": 28
        }
      ]
    },
    {
      "cell_type": "code",
      "metadata": {
        "id": "oIoO_CTxXmkf"
      },
      "source": [
        "bert_results['encoder_outputs'][-1] == bert_results['sequence_output']       # Observation\n",
        "  "
      ],
      "execution_count": null,
      "outputs": []
    },
    {
      "cell_type": "code",
      "metadata": {
        "id": "wApopNr3XpiU"
      },
      "source": [
        "bert_results['encoder_outputs']                                               # Observation\n"
      ],
      "execution_count": null,
      "outputs": []
    }
  ]
}