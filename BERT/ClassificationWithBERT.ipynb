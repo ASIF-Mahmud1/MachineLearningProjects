{
  "nbformat": 4,
  "nbformat_minor": 0,
  "metadata": {
    "colab": {
      "name": "ClassificationWithBERT.ipynb",
      "provenance": [],
      "authorship_tag": "ABX9TyNT6YmWB77Ohh6FTScAt3dC",
      "include_colab_link": true
    },
    "kernelspec": {
      "name": "python3",
      "display_name": "Python 3"
    },
    "language_info": {
      "name": "python"
    },
    "accelerator": "TPU"
  },
  "cells": [
    {
      "cell_type": "markdown",
      "metadata": {
        "id": "view-in-github",
        "colab_type": "text"
      },
      "source": [
        "<a href=\"https://colab.research.google.com/github/ASIF-Mahmud1/MachineLearningProjects/blob/bert/BERT/ClassificationWithBERT.ipynb\" target=\"_parent\"><img src=\"https://colab.research.google.com/assets/colab-badge.svg\" alt=\"Open In Colab\"/></a>"
      ]
    },
    {
      "cell_type": "code",
      "metadata": {
        "id": "0N6ofgYnoF7Y"
      },
      "source": [
        "## install tensorflow-text\n",
        "%%capture\n",
        "%%bash\n",
        "\n",
        "pip install -U tensorflow-text"
      ],
      "execution_count": 47,
      "outputs": []
    },
    {
      "cell_type": "code",
      "metadata": {
        "id": "XkS6PJ48nwTG"
      },
      "source": [
        "import tensorflow as tf\n",
        "import tensorflow_hub as hub\n",
        "import tensorflow_text as text"
      ],
      "execution_count": 48,
      "outputs": []
    },
    {
      "cell_type": "markdown",
      "metadata": {
        "id": "PPtvscb5oTdU"
      },
      "source": [
        "## Import Diminsihing Data"
      ]
    },
    {
      "cell_type": "code",
      "metadata": {
        "colab": {
          "base_uri": "https://localhost:8080/"
        },
        "id": "ABSaiIHWoTJ8",
        "outputId": "9846e6e1-3b3c-4428-a8a4-a914290d469a"
      },
      "source": [
        "url=\"https://raw.githubusercontent.com/ASIF-Mahmud1/Exploration/text-classifier/DiminishingTerms/dataSet-2.csv\"\n",
        "from io import StringIO\n",
        "import string\n",
        "import pandas as pd\n",
        "import requests\n",
        "s=requests.get(url).text\n",
        "\n",
        "message_data=pd.read_csv(StringIO(s))\n",
        "message_data['tag'] = message_data['tag'].str.strip()\n",
        "\n",
        "message_data.head()\n",
        "message_data['tag'].describe()"
      ],
      "execution_count": 49,
      "outputs": [
        {
          "output_type": "execute_result",
          "data": {
            "text/plain": [
              "count             514\n",
              "unique              2\n",
              "top       diminishing\n",
              "freq              336\n",
              "Name: tag, dtype: object"
            ]
          },
          "metadata": {
            "tags": []
          },
          "execution_count": 49
        }
      ]
    },
    {
      "cell_type": "code",
      "metadata": {
        "colab": {
          "base_uri": "https://localhost:8080/",
          "height": 175
        },
        "id": "cs73Vl2Hol-J",
        "outputId": "a546804f-fe42-4078-9a96-808b0142c221"
      },
      "source": [
        "message_data.groupby('tag').describe()\n"
      ],
      "execution_count": 50,
      "outputs": [
        {
          "output_type": "execute_result",
          "data": {
            "text/html": [
              "<div>\n",
              "<style scoped>\n",
              "    .dataframe tbody tr th:only-of-type {\n",
              "        vertical-align: middle;\n",
              "    }\n",
              "\n",
              "    .dataframe tbody tr th {\n",
              "        vertical-align: top;\n",
              "    }\n",
              "\n",
              "    .dataframe thead tr th {\n",
              "        text-align: left;\n",
              "    }\n",
              "\n",
              "    .dataframe thead tr:last-of-type th {\n",
              "        text-align: right;\n",
              "    }\n",
              "</style>\n",
              "<table border=\"1\" class=\"dataframe\">\n",
              "  <thead>\n",
              "    <tr>\n",
              "      <th></th>\n",
              "      <th colspan=\"8\" halign=\"left\">id</th>\n",
              "    </tr>\n",
              "    <tr>\n",
              "      <th></th>\n",
              "      <th>count</th>\n",
              "      <th>mean</th>\n",
              "      <th>std</th>\n",
              "      <th>min</th>\n",
              "      <th>25%</th>\n",
              "      <th>50%</th>\n",
              "      <th>75%</th>\n",
              "      <th>max</th>\n",
              "    </tr>\n",
              "    <tr>\n",
              "      <th>tag</th>\n",
              "      <th></th>\n",
              "      <th></th>\n",
              "      <th></th>\n",
              "      <th></th>\n",
              "      <th></th>\n",
              "      <th></th>\n",
              "      <th></th>\n",
              "      <th></th>\n",
              "    </tr>\n",
              "  </thead>\n",
              "  <tbody>\n",
              "    <tr>\n",
              "      <th>diminishing</th>\n",
              "      <td>336.0</td>\n",
              "      <td>220.550595</td>\n",
              "      <td>118.560988</td>\n",
              "      <td>1.0</td>\n",
              "      <td>121.75</td>\n",
              "      <td>205.5</td>\n",
              "      <td>332.25</td>\n",
              "      <td>416.0</td>\n",
              "    </tr>\n",
              "    <tr>\n",
              "      <th>strong</th>\n",
              "      <td>178.0</td>\n",
              "      <td>324.477528</td>\n",
              "      <td>173.697939</td>\n",
              "      <td>2.0</td>\n",
              "      <td>224.50</td>\n",
              "      <td>424.5</td>\n",
              "      <td>468.75</td>\n",
              "      <td>513.0</td>\n",
              "    </tr>\n",
              "  </tbody>\n",
              "</table>\n",
              "</div>"
            ],
            "text/plain": [
              "                id                                                           \n",
              "             count        mean         std  min     25%    50%     75%    max\n",
              "tag                                                                          \n",
              "diminishing  336.0  220.550595  118.560988  1.0  121.75  205.5  332.25  416.0\n",
              "strong       178.0  324.477528  173.697939  2.0  224.50  424.5  468.75  513.0"
            ]
          },
          "metadata": {
            "tags": []
          },
          "execution_count": 50
        }
      ]
    },
    {
      "cell_type": "code",
      "metadata": {
        "colab": {
          "base_uri": "https://localhost:8080/",
          "height": 205
        },
        "id": "qLPC5rAro5FZ",
        "outputId": "67d13e8b-5d28-4893-be34-5eb9c07bc6c8"
      },
      "source": [
        "message_data['value']=message_data['tag'].apply(lambda x: 1 if x=='strong' else 0)\n",
        "message_data.head()"
      ],
      "execution_count": 51,
      "outputs": [
        {
          "output_type": "execute_result",
          "data": {
            "text/html": [
              "<div>\n",
              "<style scoped>\n",
              "    .dataframe tbody tr th:only-of-type {\n",
              "        vertical-align: middle;\n",
              "    }\n",
              "\n",
              "    .dataframe tbody tr th {\n",
              "        vertical-align: top;\n",
              "    }\n",
              "\n",
              "    .dataframe thead th {\n",
              "        text-align: right;\n",
              "    }\n",
              "</style>\n",
              "<table border=\"1\" class=\"dataframe\">\n",
              "  <thead>\n",
              "    <tr style=\"text-align: right;\">\n",
              "      <th></th>\n",
              "      <th>id</th>\n",
              "      <th>tag</th>\n",
              "      <th>sentence</th>\n",
              "      <th>value</th>\n",
              "    </tr>\n",
              "  </thead>\n",
              "  <tbody>\n",
              "    <tr>\n",
              "      <th>0</th>\n",
              "      <td>1</td>\n",
              "      <td>diminishing</td>\n",
              "      <td>I�m no expert but �</td>\n",
              "      <td>0</td>\n",
              "    </tr>\n",
              "    <tr>\n",
              "      <th>1</th>\n",
              "      <td>2</td>\n",
              "      <td>strong</td>\n",
              "      <td>This is what I see</td>\n",
              "      <td>1</td>\n",
              "    </tr>\n",
              "    <tr>\n",
              "      <th>2</th>\n",
              "      <td>3</td>\n",
              "      <td>diminishing</td>\n",
              "      <td>It�s just my opinion �</td>\n",
              "      <td>0</td>\n",
              "    </tr>\n",
              "    <tr>\n",
              "      <th>3</th>\n",
              "      <td>4</td>\n",
              "      <td>strong</td>\n",
              "      <td>It�s my opinion�</td>\n",
              "      <td>1</td>\n",
              "    </tr>\n",
              "    <tr>\n",
              "      <th>4</th>\n",
              "      <td>5</td>\n",
              "      <td>diminishing</td>\n",
              "      <td>Just checking in �</td>\n",
              "      <td>0</td>\n",
              "    </tr>\n",
              "  </tbody>\n",
              "</table>\n",
              "</div>"
            ],
            "text/plain": [
              "   id          tag                sentence  value\n",
              "0   1  diminishing     I�m no expert but �      0\n",
              "1   2       strong      This is what I see      1\n",
              "2   3  diminishing  It�s just my opinion �      0\n",
              "3   4       strong        It�s my opinion�      1\n",
              "4   5  diminishing      Just checking in �      0"
            ]
          },
          "metadata": {
            "tags": []
          },
          "execution_count": 51
        }
      ]
    },
    {
      "cell_type": "markdown",
      "metadata": {
        "id": "tkcdMK45pZdJ"
      },
      "source": [
        "##Split it into training and test data set"
      ]
    },
    {
      "cell_type": "code",
      "metadata": {
        "id": "p7jh3a9LpbiY"
      },
      "source": [
        "from sklearn.model_selection import train_test_split\n",
        "\n",
        "X_train, X_test, y_train, y_test = train_test_split(message_data['sentence'],message_data['value'],test_size=1)"
      ],
      "execution_count": 52,
      "outputs": []
    },
    {
      "cell_type": "code",
      "metadata": {
        "colab": {
          "base_uri": "https://localhost:8080/"
        },
        "id": "WeAx8IemqthG",
        "outputId": "cf2ce4d3-4b3f-45ba-bd0a-a6fe560bfd75"
      },
      "source": [
        "X_train.head(4)\n",
        "len(X_train)"
      ],
      "execution_count": 53,
      "outputs": [
        {
          "output_type": "execute_result",
          "data": {
            "text/plain": [
              "513"
            ]
          },
          "metadata": {
            "tags": []
          },
          "execution_count": 53
        }
      ]
    },
    {
      "cell_type": "markdown",
      "metadata": {
        "id": "hRM5g2ucqz--"
      },
      "source": [
        "### Now lets import BERT model and get embeding vectors for few sample statements"
      ]
    },
    {
      "cell_type": "code",
      "metadata": {
        "id": "lmqzJlYFqznG"
      },
      "source": [
        "# get encoder-url and corresponding preprocess url from: https://tfhub.dev/google/collections/bert/1\n",
        "\n",
        "preprocess_url = \"https://tfhub.dev/tensorflow/bert_en_uncased_preprocess/3\"\n",
        "encoder_url = \"https://tfhub.dev/tensorflow/bert_en_uncased_L-12_H-768_A-12/4\"\n",
        "\n",
        "bert_preprocess = hub.KerasLayer(preprocess_url)\n",
        "bert_encoder = hub.KerasLayer(encoder_url)"
      ],
      "execution_count": 45,
      "outputs": []
    },
    {
      "cell_type": "code",
      "metadata": {
        "colab": {
          "base_uri": "https://localhost:8080/"
        },
        "id": "wzLKQHANrtiI",
        "outputId": "bc8ce681-2cfd-4638-ef85-d87378c31964"
      },
      "source": [
        "## Observation \n",
        "\n",
        "def get_sentence_embeding(sentences):\n",
        "    preprocessed_text = bert_preprocess(sentences)\n",
        "    return bert_encoder(preprocessed_text)['pooled_output']\n",
        "\n",
        "get_sentence_embeding([\n",
        "    \"500$ discount. hurry up\", \n",
        "    \"Bhavin, are you up for a volleybal game tomorrow?\"]\n",
        ")"
      ],
      "execution_count": 46,
      "outputs": [
        {
          "output_type": "execute_result",
          "data": {
            "text/plain": [
              "<tf.Tensor: shape=(2, 768), dtype=float32, numpy=\n",
              "array([[-0.84351707, -0.5132727 , -0.88845736, ..., -0.74748856,\n",
              "        -0.7531474 ,  0.91964495],\n",
              "       [-0.8720837 , -0.5054399 , -0.94446677, ..., -0.8584751 ,\n",
              "        -0.71745366,  0.88082993]], dtype=float32)>"
            ]
          },
          "metadata": {
            "tags": []
          },
          "execution_count": 46
        }
      ]
    },
    {
      "cell_type": "markdown",
      "metadata": {
        "id": "IlA7X1xQr41a"
      },
      "source": [
        "###Get embeding vectors for few sample words. Compare them using cosine similarity"
      ]
    },
    {
      "cell_type": "code",
      "metadata": {
        "id": "jZzcjO3lr656"
      },
      "source": [
        "#Observation\n",
        "\n",
        "e = get_sentence_embeding([\n",
        "    \"banana\", \n",
        "    \"grapes\",\n",
        "    \"mango\",\n",
        "    \"jeff bezos\",\n",
        "    \"elon musk\",\n",
        "    \"bill gates\"\n",
        "]\n",
        ")"
      ],
      "execution_count": 54,
      "outputs": []
    },
    {
      "cell_type": "code",
      "metadata": {
        "colab": {
          "base_uri": "https://localhost:8080/"
        },
        "id": "P-7iLwlOsGZa",
        "outputId": "24469b9e-0f6f-405f-fa1c-ef3540bf3016"
      },
      "source": [
        "from sklearn.metrics.pairwise import cosine_similarity\n",
        "cosine_similarity([e[0]],[e[1]])            #Observation\n",
        "\n",
        "#Values near to 1 means they are similar. 0 means they are very different. Above you can use comparing \"banana\" vs \"grapes\" you get 0.99 similarity as they both are fruits"
      ],
      "execution_count": 55,
      "outputs": [
        {
          "output_type": "execute_result",
          "data": {
            "text/plain": [
              "array([[0.9911089]], dtype=float32)"
            ]
          },
          "metadata": {
            "tags": []
          },
          "execution_count": 55
        }
      ]
    },
    {
      "cell_type": "code",
      "metadata": {
        "colab": {
          "base_uri": "https://localhost:8080/"
        },
        "id": "HVQfKzk2sWAJ",
        "outputId": "8485993b-4215-43c8-c0a5-d37db72dbd72"
      },
      "source": [
        "cosine_similarity([e[0]],[e[3]])\n",
        "# Comparing banana with jeff bezos you still get 0.84 but it is not as close as 0.99 that we got with grapes\n",
        "\n",
        "cosine_similarity([e[3]],[e[4]])\n",
        "# Jeff bezos and Elon musk are more similar then Jeff bezos and banana as indicated above"
      ],
      "execution_count": 56,
      "outputs": [
        {
          "output_type": "execute_result",
          "data": {
            "text/plain": [
              "array([[0.98720354]], dtype=float32)"
            ]
          },
          "metadata": {
            "tags": []
          },
          "execution_count": 56
        }
      ]
    },
    {
      "cell_type": "markdown",
      "metadata": {
        "id": "wXB0ZsPPsjap"
      },
      "source": [
        "Build Model\n",
        "There are two types of models you can build in tensorflow.\n",
        "\n",
        "(1) Sequential (2) Functional\n",
        "\n",
        "So far we have built sequential model. But below we will build functional model. More information on these two is here: https://becominghuman.ai/sequential-vs-functional-model-in-keras-20684f766057"
      ]
    },
    {
      "cell_type": "code",
      "metadata": {
        "id": "4F-fr-ZHsi0Z"
      },
      "source": [
        "# Bert layers\n",
        "text_input = tf.keras.layers.Input(shape=(), dtype=tf.string, name='text')\n",
        "preprocessed_text = bert_preprocess(text_input)\n",
        "outputs = bert_encoder(preprocessed_text)\n",
        "\n",
        "# Neural network layers\n",
        "l = tf.keras.layers.Dropout(0.1, name=\"dropout\")(outputs['pooled_output'])\n",
        "l = tf.keras.layers.Dense(1, activation='sigmoid', name=\"output\")(l)\n",
        "\n",
        "# Use inputs and outputs to construct a final model\n",
        "model = tf.keras.Model(inputs=[text_input], outputs = [l])"
      ],
      "execution_count": 57,
      "outputs": []
    },
    {
      "cell_type": "code",
      "metadata": {
        "colab": {
          "base_uri": "https://localhost:8080/"
        },
        "id": "mqPpwH0ss156",
        "outputId": "f9db8791-a348-4250-e5d8-9afbe79dae79"
      },
      "source": [
        "model.summary()\n"
      ],
      "execution_count": 58,
      "outputs": [
        {
          "output_type": "stream",
          "text": [
            "Model: \"model_1\"\n",
            "__________________________________________________________________________________________________\n",
            "Layer (type)                    Output Shape         Param #     Connected to                     \n",
            "==================================================================================================\n",
            "text (InputLayer)               [(None,)]            0                                            \n",
            "__________________________________________________________________________________________________\n",
            "keras_layer_2 (KerasLayer)      {'input_mask': (None 0           text[0][0]                       \n",
            "__________________________________________________________________________________________________\n",
            "keras_layer_3 (KerasLayer)      {'encoder_outputs':  109482241   keras_layer_2[0][0]              \n",
            "                                                                 keras_layer_2[0][1]              \n",
            "                                                                 keras_layer_2[0][2]              \n",
            "__________________________________________________________________________________________________\n",
            "dropout (Dropout)               (None, 768)          0           keras_layer_3[0][13]             \n",
            "__________________________________________________________________________________________________\n",
            "output (Dense)                  (None, 1)            769         dropout[0][0]                    \n",
            "==================================================================================================\n",
            "Total params: 109,483,010\n",
            "Trainable params: 769\n",
            "Non-trainable params: 109,482,241\n",
            "__________________________________________________________________________________________________\n"
          ],
          "name": "stdout"
        }
      ]
    },
    {
      "cell_type": "code",
      "metadata": {
        "colab": {
          "base_uri": "https://localhost:8080/"
        },
        "id": "u-lCZVTEs9PJ",
        "outputId": "44c481f9-8730-4c6a-f7b6-089d5cd5af38"
      },
      "source": [
        "len(X_train)\n"
      ],
      "execution_count": 59,
      "outputs": [
        {
          "output_type": "execute_result",
          "data": {
            "text/plain": [
              "513"
            ]
          },
          "metadata": {
            "tags": []
          },
          "execution_count": 59
        }
      ]
    },
    {
      "cell_type": "code",
      "metadata": {
        "id": "9cCjUsnWtjix"
      },
      "source": [
        "model.compile(optimizer='adam',\n",
        "              loss='binary_crossentropy',\n",
        "              metrics=['accuracy'])"
      ],
      "execution_count": 60,
      "outputs": []
    },
    {
      "cell_type": "markdown",
      "metadata": {
        "id": "tkTH1dw9tnnG"
      },
      "source": [
        "### Train Model"
      ]
    },
    {
      "cell_type": "code",
      "metadata": {
        "colab": {
          "base_uri": "https://localhost:8080/"
        },
        "id": "Cg3Qcjo6tqI9",
        "outputId": "2bc1ef75-582c-4d16-98de-995721f9b5a5"
      },
      "source": [
        "model.fit(X_train, y_train, epochs=5)\n"
      ],
      "execution_count": 61,
      "outputs": [
        {
          "output_type": "stream",
          "text": [
            "Epoch 1/5\n",
            "17/17 [==============================] - 230s 13s/step - loss: 0.6712 - accuracy: 0.6160\n",
            "Epoch 2/5\n",
            "17/17 [==============================] - 221s 13s/step - loss: 0.6419 - accuracy: 0.6608\n",
            "Epoch 3/5\n",
            "17/17 [==============================] - 221s 13s/step - loss: 0.6153 - accuracy: 0.6413\n",
            "Epoch 4/5\n",
            "17/17 [==============================] - 221s 13s/step - loss: 0.6064 - accuracy: 0.6569\n",
            "Epoch 5/5\n",
            "17/17 [==============================] - 221s 13s/step - loss: 0.6087 - accuracy: 0.6530\n"
          ],
          "name": "stdout"
        },
        {
          "output_type": "execute_result",
          "data": {
            "text/plain": [
              "<tensorflow.python.keras.callbacks.History at 0x7fdd05b36150>"
            ]
          },
          "metadata": {
            "tags": []
          },
          "execution_count": 61
        }
      ]
    },
    {
      "cell_type": "code",
      "metadata": {
        "colab": {
          "base_uri": "https://localhost:8080/"
        },
        "id": "WOjMSXwjtypg",
        "outputId": "d03626ae-fc51-40eb-aa80-038a82c0dfaf"
      },
      "source": [
        "model.evaluate(X_test, y_test)\n"
      ],
      "execution_count": 62,
      "outputs": [
        {
          "output_type": "stream",
          "text": [
            "1/1 [==============================] - 2s 2s/step - loss: 0.3876 - accuracy: 1.0000\n"
          ],
          "name": "stdout"
        },
        {
          "output_type": "execute_result",
          "data": {
            "text/plain": [
              "[0.3876095414161682, 1.0]"
            ]
          },
          "metadata": {
            "tags": []
          },
          "execution_count": 62
        }
      ]
    },
    {
      "cell_type": "markdown",
      "metadata": {
        "id": "AHELI0GBt3Iq"
      },
      "source": [
        "Inference"
      ]
    },
    {
      "cell_type": "code",
      "metadata": {
        "colab": {
          "base_uri": "https://localhost:8080/"
        },
        "id": "qzkNyYNfuBXi",
        "outputId": "682ce1fc-c428-4744-a334-2f19b65d1959"
      },
      "source": [
        "\n",
        "reviews = [\n",
        "           \"This is unclear\",\n",
        "   \"Our success is inevitable\",\n",
        "\"I will definitely pass the exam\",\n",
        "\"I am giving up\",\n",
        "\"I don't know, if I will pass the exam\",\n",
        "\"Maybe I will pass the exam\",\n",
        "\n",
        "]\n",
        "model.predict(reviews)"
      ],
      "execution_count": 66,
      "outputs": [
        {
          "output_type": "execute_result",
          "data": {
            "text/plain": [
              "array([[0.4406702 ],\n",
              "       [0.402784  ],\n",
              "       [0.36375138],\n",
              "       [0.37997845],\n",
              "       [0.17167109],\n",
              "       [0.37352258]], dtype=float32)"
            ]
          },
          "metadata": {
            "tags": []
          },
          "execution_count": 66
        }
      ]
    }
  ]
}