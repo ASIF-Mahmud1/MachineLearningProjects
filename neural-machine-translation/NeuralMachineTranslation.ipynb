{
 "cells": [
  {
   "cell_type": "code",
   "execution_count": 1,
   "metadata": {},
   "outputs": [],
   "source": [
    "from nltk.translate.ibm1 import IBMModel1\n",
    "from nltk.translate.api import AlignedSent\n",
    "import dill as pickle\n",
    "import gzip\n",
    "import random\n",
    "\n",
    "def read_sents(filename):\n",
    "    sents = []\n",
    "    c=0\n",
    "    with open(filename,'r') as fi:\n",
    "        for li in fi:\n",
    "            sents.append(li.split())\n",
    "    return sents"
   ]
  },
  {
   "cell_type": "code",
   "execution_count": 3,
   "metadata": {},
   "outputs": [],
   "source": [
    "\n",
    "frenchPath= '/home/asif/Desktop/MachineLearningProjects/statistical-machine-translation/data/train_fr_lines.txt'\n",
    "englishPath= '/home/asif/Desktop/MachineLearningProjects/statistical-machine-translation/data/train_er_lines.txt'\n",
    "\n"
   ]
  },
  {
   "cell_type": "code",
   "execution_count": 4,
   "metadata": {},
   "outputs": [],
   "source": [
    "max_count=5000\n",
    "eng_sents_all = read_sents('data/train_en_lines.txt')\n",
    "fr_sents_all = read_sents('data/train_fr_lines.txt')\n",
    "# eng_sents = eng_sents_all[:max_count]\n",
    "# fr_sents = fr_sents_all[:max_count]\n",
    "# print(\"Size of english sentences: \", len(eng_sents))\n",
    "# print(\"Size of french sentences: \", len(fr_sents))\n",
    "# aligned_text = []\n",
    "# for i in range(len(eng_sents)):\n",
    "#     al_sent = AlignedSent(fr_sents[i],eng_sents[i])\n",
    "#     aligned_text.append(al_sent)\n",
    "# print(\"Training smt model\")\n",
    "# ibm_model = IBMModel1(aligned_text,5)\n",
    "# print(\"Training complete\")"
   ]
  }
 ],
 "metadata": {
  "interpreter": {
   "hash": "916dbcbb3f70747c44a77c7bcd40155683ae19c65e1c03b4aa3499c5328201f1"
  },
  "kernelspec": {
   "display_name": "Python 3.8.10 64-bit",
   "language": "python",
   "name": "python3"
  },
  "language_info": {
   "codemirror_mode": {
    "name": "ipython",
    "version": 3
   },
   "file_extension": ".py",
   "mimetype": "text/x-python",
   "name": "python",
   "nbconvert_exporter": "python",
   "pygments_lexer": "ipython3",
   "version": "3.8.10"
  },
  "orig_nbformat": 4
 },
 "nbformat": 4,
 "nbformat_minor": 2
}
